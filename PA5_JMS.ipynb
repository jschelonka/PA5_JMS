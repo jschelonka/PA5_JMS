{
 "cells": [
  {
   "cell_type": "code",
   "execution_count": 23,
   "id": "0f478856",
   "metadata": {},
   "outputs": [
    {
     "name": "stdout",
     "output_type": "stream",
     "text": [
      "Enter a word to translate from English to Spanish (enter 0 to stop)one\n",
      "uno\n",
      "Enter a word to translate from English to Spanish (enter 0 to stop)two\n",
      "dos\n",
      "Enter a word to translate from English to Spanish (enter 0 to stop)three\n",
      "tres\n",
      "Enter a word to translate from English to Spanish (enter 0 to stop)0\n",
      "None\n"
     ]
    }
   ],
   "source": [
    "English = ['zero', 'one', 'two', 'three', 'four', 'five', 'six', 'seven', 'eight', 'nine', 'ten', 'eleven', 'twelve', 'thirteen', 'fourteen', 'fifteen', 'sixteen', 'seventeen', 'eighteen', 'nineteen']\n",
    "Spanish = ['cero', 'uno', 'dos', 'tres', 'cuatro', 'cinco', 'seis', 'siete', 'ocho', 'nueve', 'diez', 'once', 'doce', 'trece', 'catorce', 'quince', 'dieciseis', 'Diecisiete', 'Dieciocho', 'Diecinueve']\n",
    "data = dict(zip(English, Spanish))\n",
    "\n",
    "user_input = str(input(\"Enter a word to translate from English to Spanish (enter 0 to stop)\"))\n",
    "user = user_input.lower()\n",
    "\n",
    "temp = data.get(\"%s\" %user)\n",
    "print(temp)\n",
    "    \n",
    "while user != '0': \n",
    "    \n",
    "    user_input = str(input(\"Enter a word to translate from English to Spanish (enter 0 to stop)\"))\n",
    "    user = user_input.lower()\n",
    "\n",
    "    temp = data.get(\"%s\" %user)\n",
    "    print(temp)\n",
    "    "
   ]
  },
  {
   "cell_type": "code",
   "execution_count": 33,
   "id": "46acc39a",
   "metadata": {
    "scrolled": true
   },
   "outputs": [
    {
     "name": "stdout",
     "output_type": "stream",
     "text": [
      "Enter the day of the month: 21\n",
      "25.555555555555557\n",
      "The day of the month with the highest temperature is 29\n",
      "The day of the month with the lowest temperature is 23\n"
     ]
    }
   ],
   "source": [
    "key = [1,2,3,4,5,6,7,8,9,10,11,12,13,14,15,16,17,18,19,20,21,22,23,24,25,26,27,28,29,30]\n",
    "value = [85,83,84,84,82,87,86,85,81,82,84,87,89,89,84,85,89,89,86,78,78,71,71,75,74,77,85,87,89,86]\n",
    "data = dict(zip(key, value))\n",
    "\n",
    "user = int(input(\"Enter the day of the month: \"))\n",
    "\n",
    "fahr = data.get(user)\n",
    "def converter(fahr):\n",
    "    celsius = (fahr - 32) * 5/9\n",
    "    print(celsius)\n",
    "converter(fahr)\n",
    "    \n",
    "high = max(data.values())\n",
    "low = min(data.values())\n",
    "\n",
    "for key in data:\n",
    "    if data[key] == high:\n",
    "        highest = key\n",
    "        \n",
    "for key2 in data:\n",
    "    if data[key2] == low:\n",
    "        lowest = key2\n",
    "\n",
    "print(\"The day of the month with the highest temperature is %s\" %highest)\n",
    "print(\"The day of the month with the lowest temperature is %s\" %lowest)"
   ]
  },
  {
   "cell_type": "markdown",
   "id": "9339fabe",
   "metadata": {},
   "source": [
    "### symmetric_difference() returns the elements that are in either A or B, but are not in common."
   ]
  },
  {
   "cell_type": "code",
   "execution_count": 34,
   "id": "9c567289",
   "metadata": {},
   "outputs": [
    {
     "name": "stdout",
     "output_type": "stream",
     "text": [
      "{'B', 'A', 'E'}\n",
      "{'B', 'A', 'E'}\n"
     ]
    }
   ],
   "source": [
    "A = {'A', 'B', 'C', 'D'}\n",
    "B = {'C', 'D', 'E'}\n",
    "\n",
    "print(A ^ B)\n",
    "print(B ^ A)"
   ]
  },
  {
   "cell_type": "markdown",
   "id": "464e5bae",
   "metadata": {},
   "source": [
    "### .isdisjoint returns True if two sets are disjoint sets. Else, it returns False"
   ]
  },
  {
   "cell_type": "code",
   "execution_count": 36,
   "id": "d9a326cb",
   "metadata": {},
   "outputs": [
    {
     "name": "stdout",
     "output_type": "stream",
     "text": [
      "Are A and B disjoint? True\n"
     ]
    }
   ],
   "source": [
    "A = {1,5,9,0}\n",
    "B = {2,4,-5}\n",
    "\n",
    "print(\"Are A and B disjoint?\", A.isdisjoint(B))"
   ]
  },
  {
   "cell_type": "markdown",
   "id": "4f01ab96",
   "metadata": {},
   "source": [
    "### intersection_update updates the set calling intersection_update with the intersection of sets"
   ]
  },
  {
   "cell_type": "code",
   "execution_count": 37,
   "id": "0769bc07",
   "metadata": {},
   "outputs": [
    {
     "name": "stdout",
     "output_type": "stream",
     "text": [
      "result =  None\n",
      "A = {2, 3, 4}\n",
      "B =  {2, 3, 4, 5}\n"
     ]
    }
   ],
   "source": [
    "A = {1,2,3,4}\n",
    "B = {2,3,4,5}\n",
    "\n",
    "result = A.intersection_update(B)\n",
    "\n",
    "print(\"result = \", result)\n",
    "print(\"A =\", A)\n",
    "print(\"B = \", B)"
   ]
  },
  {
   "cell_type": "markdown",
   "id": "d7c3f01f",
   "metadata": {},
   "source": [
    "### symmetric_difference (^=)"
   ]
  },
  {
   "cell_type": "code",
   "execution_count": 38,
   "id": "e1eab8e7",
   "metadata": {},
   "outputs": [
    {
     "ename": "SyntaxError",
     "evalue": "invalid syntax (<ipython-input-38-431cc1f6276a>, line 4)",
     "output_type": "error",
     "traceback": [
      "\u001b[1;36m  File \u001b[1;32m\"<ipython-input-38-431cc1f6276a>\"\u001b[1;36m, line \u001b[1;32m4\u001b[0m\n\u001b[1;33m    print(A ^= B)\u001b[0m\n\u001b[1;37m            ^\u001b[0m\n\u001b[1;31mSyntaxError\u001b[0m\u001b[1;31m:\u001b[0m invalid syntax\n"
     ]
    }
   ],
   "source": [
    "A = {'A', 'B', 'C', 'D'}\n",
    "B = {'C', 'D', 'E'}\n",
    "\n",
    "print(A ^= B)\n",
    "print(B ^= A)"
   ]
  },
  {
   "cell_type": "markdown",
   "id": "9690a72e",
   "metadata": {},
   "source": [
    "### remove() removes an item or an element from a list"
   ]
  },
  {
   "cell_type": "code",
   "execution_count": 39,
   "id": "e7328331",
   "metadata": {},
   "outputs": [
    {
     "data": {
      "text/plain": [
       "['Bran', 11, 33, 'Stark', 22, 33, 11]"
      ]
     },
     "execution_count": 39,
     "metadata": {},
     "output_type": "execute_result"
    }
   ],
   "source": [
    "myList = [\"Bran\", 11, 22, 33, \"Stark\", 22, 33, 11]\n",
    "myList.remove(22)\n",
    "myList"
   ]
  },
  {
   "cell_type": "markdown",
   "id": "75dec772",
   "metadata": {},
   "source": [
    "### discard() removes an item or an element from a list if it is present, if the element is not present then no error will be raised"
   ]
  },
  {
   "cell_type": "code",
   "execution_count": 40,
   "id": "77e4ba90",
   "metadata": {},
   "outputs": [
    {
     "name": "stdout",
     "output_type": "stream",
     "text": [
      "{41, 10, 54, 26}\n"
     ]
    }
   ],
   "source": [
    "sets = set([10,20,26,41,54,20])\n",
    "def remove(sets):\n",
    "    sets.discard(20)\n",
    "    print(sets)\n",
    "remove(sets)"
   ]
  },
  {
   "cell_type": "markdown",
   "id": "532140ec",
   "metadata": {},
   "source": [
    "### when using the pop() function we need to specify the index of the item we want to remove, rather than the element"
   ]
  },
  {
   "cell_type": "code",
   "execution_count": 41,
   "id": "26ee865d",
   "metadata": {},
   "outputs": [
    {
     "data": {
      "text/plain": [
       "11"
      ]
     },
     "execution_count": 41,
     "metadata": {},
     "output_type": "execute_result"
    }
   ],
   "source": [
    "myList = [\"Bran\", 11, 22, 33, \"Stark\", 22, 33, 11]\n",
    "myList.pop(1)"
   ]
  },
  {
   "cell_type": "markdown",
   "id": "345d9608",
   "metadata": {},
   "source": [
    "### PA5, Jacob Schelonka, version 1.0, CS-150-02"
   ]
  },
  {
   "cell_type": "code",
   "execution_count": null,
   "id": "b4fe74e4",
   "metadata": {},
   "outputs": [],
   "source": []
  }
 ],
 "metadata": {
  "kernelspec": {
   "display_name": "Python 3",
   "language": "python",
   "name": "python3"
  },
  "language_info": {
   "codemirror_mode": {
    "name": "ipython",
    "version": 3
   },
   "file_extension": ".py",
   "mimetype": "text/x-python",
   "name": "python",
   "nbconvert_exporter": "python",
   "pygments_lexer": "ipython3",
   "version": "3.8.8"
  }
 },
 "nbformat": 4,
 "nbformat_minor": 5
}
